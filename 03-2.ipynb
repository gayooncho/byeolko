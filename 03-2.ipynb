{
 "cells": [
  {
   "cell_type": "code",
   "execution_count": 9,
   "metadata": {},
   "outputs": [
    {
     "name": "stdout",
     "output_type": "stream",
     "text": [
      "12\n",
      "9\n",
      "1\n"
     ]
    }
   ],
   "source": [
    "# 003 / 백준 11659\n",
    "# 구간 합 구하기1\n",
    "\n",
    "# 데이터의 개수, 질의 개수\n",
    "a, b = map(int,input().split())\n",
    "# 대상배열\n",
    "num = list(input().split())\n",
    "\n",
    "num_list = list(map(int, num))\n",
    "\n",
    "\n",
    "\n",
    "# 구간 \n",
    "for x in range(b):\n",
    "    i, j = map(int, input().split())\n",
    "    S_i = sum(num_list[:i-1])\n",
    "    S_j = sum(num_list[:j])\n",
    "    print(S_j - S_i)\n",
    "\n"
   ]
  },
  {
   "cell_type": "code",
   "execution_count": null,
   "metadata": {},
   "outputs": [],
   "source": []
  }
 ],
 "metadata": {
  "kernelspec": {
   "display_name": "Python 3.10.6 64-bit",
   "language": "python",
   "name": "python3"
  },
  "language_info": {
   "codemirror_mode": {
    "name": "ipython",
    "version": 3
   },
   "file_extension": ".py",
   "mimetype": "text/x-python",
   "name": "python",
   "nbconvert_exporter": "python",
   "pygments_lexer": "ipython3",
   "version": "3.10.6"
  },
  "orig_nbformat": 4,
  "vscode": {
   "interpreter": {
    "hash": "9ee9d0e1fd84db6551846283a39a5fe28c54baec31cf71e9460ba41fdf3a2bf3"
   }
  }
 },
 "nbformat": 4,
 "nbformat_minor": 2
}
